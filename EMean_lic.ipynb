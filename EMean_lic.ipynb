{
  "nbformat": 4,
  "nbformat_minor": 0,
  "metadata": {
    "colab": {
      "provenance": [],
      "mount_file_id": "1ywXvQ5_STSAy3PwCRl86klChCO2rKquH",
      "authorship_tag": "ABX9TyOPi4boHc7PPfJyrH0RgY2M",
      "include_colab_link": true
    },
    "kernelspec": {
      "name": "python3",
      "display_name": "Python 3"
    },
    "language_info": {
      "name": "python"
    }
  },
  "cells": [
    {
      "cell_type": "markdown",
      "metadata": {
        "id": "view-in-github",
        "colab_type": "text"
      },
      "source": [
        "<a href=\"https://colab.research.google.com/github/Urscic/cognitive-science/blob/main/EMean_lic.ipynb\" target=\"_parent\"><img src=\"https://colab.research.google.com/assets/colab-badge.svg\" alt=\"Open In Colab\"/></a>"
      ]
    },
    {
      "cell_type": "code",
      "execution_count": null,
      "metadata": {
        "colab": {
          "base_uri": "https://localhost:8080/"
        },
        "id": "Y-IdLUAq8JJ_",
        "outputId": "97a18f9a-4bba-40d9-b00e-f0aa8761b81f"
      },
      "outputs": [
        {
          "output_type": "stream",
          "name": "stdout",
          "text": [
            "2022-11-25 17:37:56.729983: E tensorflow/stream_executor/cuda/cuda_driver.cc:271] failed call to cuInit: CUDA_ERROR_NO_DEVICE: no CUDA-capable device is detected\n",
            "Looking in indexes: https://pypi.org/simple, https://us-python.pkg.dev/colab-wheels/public/simple/\n",
            "Collecting pl-core-news-sm==3.4.0\n",
            "  Downloading https://github.com/explosion/spacy-models/releases/download/pl_core_news_sm-3.4.0/pl_core_news_sm-3.4.0-py3-none-any.whl (20.1 MB)\n",
            "\u001b[K     |████████████████████████████████| 20.1 MB 11.1 MB/s \n",
            "\u001b[?25hRequirement already satisfied: spacy<3.5.0,>=3.4.0 in /usr/local/lib/python3.7/dist-packages (from pl-core-news-sm==3.4.0) (3.4.3)\n",
            "Requirement already satisfied: murmurhash<1.1.0,>=0.28.0 in /usr/local/lib/python3.7/dist-packages (from spacy<3.5.0,>=3.4.0->pl-core-news-sm==3.4.0) (1.0.9)\n",
            "Requirement already satisfied: setuptools in /usr/local/lib/python3.7/dist-packages (from spacy<3.5.0,>=3.4.0->pl-core-news-sm==3.4.0) (57.4.0)\n",
            "Requirement already satisfied: tqdm<5.0.0,>=4.38.0 in /usr/local/lib/python3.7/dist-packages (from spacy<3.5.0,>=3.4.0->pl-core-news-sm==3.4.0) (4.64.1)\n",
            "Requirement already satisfied: pathy>=0.3.5 in /usr/local/lib/python3.7/dist-packages (from spacy<3.5.0,>=3.4.0->pl-core-news-sm==3.4.0) (0.8.1)\n",
            "Requirement already satisfied: catalogue<2.1.0,>=2.0.6 in /usr/local/lib/python3.7/dist-packages (from spacy<3.5.0,>=3.4.0->pl-core-news-sm==3.4.0) (2.0.8)\n",
            "Requirement already satisfied: thinc<8.2.0,>=8.1.0 in /usr/local/lib/python3.7/dist-packages (from spacy<3.5.0,>=3.4.0->pl-core-news-sm==3.4.0) (8.1.5)\n",
            "Requirement already satisfied: srsly<3.0.0,>=2.4.3 in /usr/local/lib/python3.7/dist-packages (from spacy<3.5.0,>=3.4.0->pl-core-news-sm==3.4.0) (2.4.5)\n",
            "Requirement already satisfied: langcodes<4.0.0,>=3.2.0 in /usr/local/lib/python3.7/dist-packages (from spacy<3.5.0,>=3.4.0->pl-core-news-sm==3.4.0) (3.3.0)\n",
            "Requirement already satisfied: typer<0.8.0,>=0.3.0 in /usr/local/lib/python3.7/dist-packages (from spacy<3.5.0,>=3.4.0->pl-core-news-sm==3.4.0) (0.7.0)\n",
            "Requirement already satisfied: pydantic!=1.8,!=1.8.1,<1.11.0,>=1.7.4 in /usr/local/lib/python3.7/dist-packages (from spacy<3.5.0,>=3.4.0->pl-core-news-sm==3.4.0) (1.10.2)\n",
            "Requirement already satisfied: requests<3.0.0,>=2.13.0 in /usr/local/lib/python3.7/dist-packages (from spacy<3.5.0,>=3.4.0->pl-core-news-sm==3.4.0) (2.23.0)\n",
            "Requirement already satisfied: jinja2 in /usr/local/lib/python3.7/dist-packages (from spacy<3.5.0,>=3.4.0->pl-core-news-sm==3.4.0) (2.11.3)\n",
            "Requirement already satisfied: preshed<3.1.0,>=3.0.2 in /usr/local/lib/python3.7/dist-packages (from spacy<3.5.0,>=3.4.0->pl-core-news-sm==3.4.0) (3.0.8)\n",
            "Requirement already satisfied: spacy-legacy<3.1.0,>=3.0.10 in /usr/local/lib/python3.7/dist-packages (from spacy<3.5.0,>=3.4.0->pl-core-news-sm==3.4.0) (3.0.10)\n",
            "Requirement already satisfied: spacy-loggers<2.0.0,>=1.0.0 in /usr/local/lib/python3.7/dist-packages (from spacy<3.5.0,>=3.4.0->pl-core-news-sm==3.4.0) (1.0.3)\n",
            "Requirement already satisfied: numpy>=1.15.0 in /usr/local/lib/python3.7/dist-packages (from spacy<3.5.0,>=3.4.0->pl-core-news-sm==3.4.0) (1.21.6)\n",
            "Requirement already satisfied: typing-extensions<4.2.0,>=3.7.4 in /usr/local/lib/python3.7/dist-packages (from spacy<3.5.0,>=3.4.0->pl-core-news-sm==3.4.0) (4.1.1)\n",
            "Requirement already satisfied: wasabi<1.1.0,>=0.9.1 in /usr/local/lib/python3.7/dist-packages (from spacy<3.5.0,>=3.4.0->pl-core-news-sm==3.4.0) (0.10.1)\n",
            "Requirement already satisfied: packaging>=20.0 in /usr/local/lib/python3.7/dist-packages (from spacy<3.5.0,>=3.4.0->pl-core-news-sm==3.4.0) (21.3)\n",
            "Requirement already satisfied: cymem<2.1.0,>=2.0.2 in /usr/local/lib/python3.7/dist-packages (from spacy<3.5.0,>=3.4.0->pl-core-news-sm==3.4.0) (2.0.7)\n",
            "Requirement already satisfied: zipp>=0.5 in /usr/local/lib/python3.7/dist-packages (from catalogue<2.1.0,>=2.0.6->spacy<3.5.0,>=3.4.0->pl-core-news-sm==3.4.0) (3.10.0)\n",
            "Requirement already satisfied: pyparsing!=3.0.5,>=2.0.2 in /usr/local/lib/python3.7/dist-packages (from packaging>=20.0->spacy<3.5.0,>=3.4.0->pl-core-news-sm==3.4.0) (3.0.9)\n",
            "Requirement already satisfied: smart-open<6.0.0,>=5.2.1 in /usr/local/lib/python3.7/dist-packages (from pathy>=0.3.5->spacy<3.5.0,>=3.4.0->pl-core-news-sm==3.4.0) (5.2.1)\n",
            "Requirement already satisfied: idna<3,>=2.5 in /usr/local/lib/python3.7/dist-packages (from requests<3.0.0,>=2.13.0->spacy<3.5.0,>=3.4.0->pl-core-news-sm==3.4.0) (2.10)\n",
            "Requirement already satisfied: urllib3!=1.25.0,!=1.25.1,<1.26,>=1.21.1 in /usr/local/lib/python3.7/dist-packages (from requests<3.0.0,>=2.13.0->spacy<3.5.0,>=3.4.0->pl-core-news-sm==3.4.0) (1.24.3)\n",
            "Requirement already satisfied: chardet<4,>=3.0.2 in /usr/local/lib/python3.7/dist-packages (from requests<3.0.0,>=2.13.0->spacy<3.5.0,>=3.4.0->pl-core-news-sm==3.4.0) (3.0.4)\n",
            "Requirement already satisfied: certifi>=2017.4.17 in /usr/local/lib/python3.7/dist-packages (from requests<3.0.0,>=2.13.0->spacy<3.5.0,>=3.4.0->pl-core-news-sm==3.4.0) (2022.9.24)\n",
            "Requirement already satisfied: confection<1.0.0,>=0.0.1 in /usr/local/lib/python3.7/dist-packages (from thinc<8.2.0,>=8.1.0->spacy<3.5.0,>=3.4.0->pl-core-news-sm==3.4.0) (0.0.3)\n",
            "Requirement already satisfied: blis<0.8.0,>=0.7.8 in /usr/local/lib/python3.7/dist-packages (from thinc<8.2.0,>=8.1.0->spacy<3.5.0,>=3.4.0->pl-core-news-sm==3.4.0) (0.7.9)\n",
            "Requirement already satisfied: click<9.0.0,>=7.1.1 in /usr/local/lib/python3.7/dist-packages (from typer<0.8.0,>=0.3.0->spacy<3.5.0,>=3.4.0->pl-core-news-sm==3.4.0) (7.1.2)\n",
            "Requirement already satisfied: MarkupSafe>=0.23 in /usr/local/lib/python3.7/dist-packages (from jinja2->spacy<3.5.0,>=3.4.0->pl-core-news-sm==3.4.0) (2.0.1)\n",
            "\u001b[38;5;2m✔ Download and installation successful\u001b[0m\n",
            "You can now load the package via spacy.load('pl_core_news_sm')\n"
          ]
        }
      ],
      "source": [
        "!python -m spacy download pl_core_news_sm\n",
        "import pandas as pd\n",
        "import spacy\n",
        "from sklearn.feature_extraction.text import CountVectorizer"
      ]
    },
    {
      "cell_type": "markdown",
      "source": [
        "[tekst linku](https://)To start emotion analysis:\n",
        "- create unicode str variable, for exmaple t1\n",
        "- use funtion to_lem(t1)\n",
        "- use funtion find_emotions on your lem list \n",
        "\n",
        "**Find_emotions returns tuple** which consist of (valence_result, classification_result)"
      ],
      "metadata": {
        "id": "F_nbtJZqqHIH"
      }
    },
    {
      "cell_type": "code",
      "source": [
        "nlp = spacy.load(\"pl_core_news_sm\")\n",
        "# EMean\n",
        "df = pd.read_csv('/content/drive/MyDrive/badania korpusowe/licencjat/unsupervised-summary.csv')\n",
        "df.head()"
      ],
      "metadata": {
        "colab": {
          "base_uri": "https://localhost:8080/",
          "height": 404
        },
        "id": "-PtQGE3g92D-",
        "outputId": "7a7ad433-9a8d-4ff8-de56-eeefb245c3dd"
      },
      "execution_count": null,
      "outputs": [
        {
          "output_type": "execute_result",
          "data": {
            "text/plain": [
              "   plWordNet ID    lemma          phrase   N     VAL M     ARO M     ANG M  \\\n",
              "0        100097  zajawka   zajawka filmu  52  0.923077  1.519231  0.423077   \n",
              "1         10010    wonny    wonny olejek  52  1.153846  1.519231  0.326923   \n",
              "2         10027  wprawny    wprawny ruch  56  1.089286  1.303571  0.267857   \n",
              "3        100288    kopia  kopia zapasowa  48  0.916667  1.020833  0.291667   \n",
              "4        100381   wombat  wombat wombata  47  0.340426  0.787234  0.425532   \n",
              "\n",
              "      DIS M     FEA M     SAD M  ...     ANG D     DIS D     FEA D     SAD D  \\\n",
              "0  0.346154  0.442308  0.442308  ...  5.180621  5.234250  5.167929  5.194480   \n",
              "1  0.288462  0.269231  0.288462  ...  5.160278  5.180805  5.197823  5.189660   \n",
              "2  0.267857  0.303571  0.250000  ...  4.979983  4.974224  4.949505  4.990424   \n",
              "3  0.312500  0.416667  0.354167  ...  5.016518  4.999841  4.929989  4.973420   \n",
              "4  0.468085  0.531915  0.382979  ...  4.610359  4.579958  4.525225  4.624613   \n",
              "\n",
              "      ANT D     HAP D     SUR D     TRU D     NEU D  classification  \n",
              "0  3.873814  4.356184  4.714806  4.912466  3.350292             ANT  \n",
              "1  4.325973  3.959710  4.637373  4.562609  3.104975             HAP  \n",
              "2  4.146672  4.187413  4.589903  4.207473  2.731881             TRU  \n",
              "3  4.196590  4.556038  4.966096  4.125068  2.696771             TRU  \n",
              "4  4.453699  4.297518  4.267138  4.531471  1.875739             NEU  \n",
              "\n",
              "[5 rows x 34 columns]"
            ],
            "text/html": [
              "\n",
              "  <div id=\"df-8f9abcea-4e18-4af4-bebe-2bd93cb50c57\">\n",
              "    <div class=\"colab-df-container\">\n",
              "      <div>\n",
              "<style scoped>\n",
              "    .dataframe tbody tr th:only-of-type {\n",
              "        vertical-align: middle;\n",
              "    }\n",
              "\n",
              "    .dataframe tbody tr th {\n",
              "        vertical-align: top;\n",
              "    }\n",
              "\n",
              "    .dataframe thead th {\n",
              "        text-align: right;\n",
              "    }\n",
              "</style>\n",
              "<table border=\"1\" class=\"dataframe\">\n",
              "  <thead>\n",
              "    <tr style=\"text-align: right;\">\n",
              "      <th></th>\n",
              "      <th>plWordNet ID</th>\n",
              "      <th>lemma</th>\n",
              "      <th>phrase</th>\n",
              "      <th>N</th>\n",
              "      <th>VAL M</th>\n",
              "      <th>ARO M</th>\n",
              "      <th>ANG M</th>\n",
              "      <th>DIS M</th>\n",
              "      <th>FEA M</th>\n",
              "      <th>SAD M</th>\n",
              "      <th>...</th>\n",
              "      <th>ANG D</th>\n",
              "      <th>DIS D</th>\n",
              "      <th>FEA D</th>\n",
              "      <th>SAD D</th>\n",
              "      <th>ANT D</th>\n",
              "      <th>HAP D</th>\n",
              "      <th>SUR D</th>\n",
              "      <th>TRU D</th>\n",
              "      <th>NEU D</th>\n",
              "      <th>classification</th>\n",
              "    </tr>\n",
              "  </thead>\n",
              "  <tbody>\n",
              "    <tr>\n",
              "      <th>0</th>\n",
              "      <td>100097</td>\n",
              "      <td>zajawka</td>\n",
              "      <td>zajawka filmu</td>\n",
              "      <td>52</td>\n",
              "      <td>0.923077</td>\n",
              "      <td>1.519231</td>\n",
              "      <td>0.423077</td>\n",
              "      <td>0.346154</td>\n",
              "      <td>0.442308</td>\n",
              "      <td>0.442308</td>\n",
              "      <td>...</td>\n",
              "      <td>5.180621</td>\n",
              "      <td>5.234250</td>\n",
              "      <td>5.167929</td>\n",
              "      <td>5.194480</td>\n",
              "      <td>3.873814</td>\n",
              "      <td>4.356184</td>\n",
              "      <td>4.714806</td>\n",
              "      <td>4.912466</td>\n",
              "      <td>3.350292</td>\n",
              "      <td>ANT</td>\n",
              "    </tr>\n",
              "    <tr>\n",
              "      <th>1</th>\n",
              "      <td>10010</td>\n",
              "      <td>wonny</td>\n",
              "      <td>wonny olejek</td>\n",
              "      <td>52</td>\n",
              "      <td>1.153846</td>\n",
              "      <td>1.519231</td>\n",
              "      <td>0.326923</td>\n",
              "      <td>0.288462</td>\n",
              "      <td>0.269231</td>\n",
              "      <td>0.288462</td>\n",
              "      <td>...</td>\n",
              "      <td>5.160278</td>\n",
              "      <td>5.180805</td>\n",
              "      <td>5.197823</td>\n",
              "      <td>5.189660</td>\n",
              "      <td>4.325973</td>\n",
              "      <td>3.959710</td>\n",
              "      <td>4.637373</td>\n",
              "      <td>4.562609</td>\n",
              "      <td>3.104975</td>\n",
              "      <td>HAP</td>\n",
              "    </tr>\n",
              "    <tr>\n",
              "      <th>2</th>\n",
              "      <td>10027</td>\n",
              "      <td>wprawny</td>\n",
              "      <td>wprawny ruch</td>\n",
              "      <td>56</td>\n",
              "      <td>1.089286</td>\n",
              "      <td>1.303571</td>\n",
              "      <td>0.267857</td>\n",
              "      <td>0.267857</td>\n",
              "      <td>0.303571</td>\n",
              "      <td>0.250000</td>\n",
              "      <td>...</td>\n",
              "      <td>4.979983</td>\n",
              "      <td>4.974224</td>\n",
              "      <td>4.949505</td>\n",
              "      <td>4.990424</td>\n",
              "      <td>4.146672</td>\n",
              "      <td>4.187413</td>\n",
              "      <td>4.589903</td>\n",
              "      <td>4.207473</td>\n",
              "      <td>2.731881</td>\n",
              "      <td>TRU</td>\n",
              "    </tr>\n",
              "    <tr>\n",
              "      <th>3</th>\n",
              "      <td>100288</td>\n",
              "      <td>kopia</td>\n",
              "      <td>kopia zapasowa</td>\n",
              "      <td>48</td>\n",
              "      <td>0.916667</td>\n",
              "      <td>1.020833</td>\n",
              "      <td>0.291667</td>\n",
              "      <td>0.312500</td>\n",
              "      <td>0.416667</td>\n",
              "      <td>0.354167</td>\n",
              "      <td>...</td>\n",
              "      <td>5.016518</td>\n",
              "      <td>4.999841</td>\n",
              "      <td>4.929989</td>\n",
              "      <td>4.973420</td>\n",
              "      <td>4.196590</td>\n",
              "      <td>4.556038</td>\n",
              "      <td>4.966096</td>\n",
              "      <td>4.125068</td>\n",
              "      <td>2.696771</td>\n",
              "      <td>TRU</td>\n",
              "    </tr>\n",
              "    <tr>\n",
              "      <th>4</th>\n",
              "      <td>100381</td>\n",
              "      <td>wombat</td>\n",
              "      <td>wombat wombata</td>\n",
              "      <td>47</td>\n",
              "      <td>0.340426</td>\n",
              "      <td>0.787234</td>\n",
              "      <td>0.425532</td>\n",
              "      <td>0.468085</td>\n",
              "      <td>0.531915</td>\n",
              "      <td>0.382979</td>\n",
              "      <td>...</td>\n",
              "      <td>4.610359</td>\n",
              "      <td>4.579958</td>\n",
              "      <td>4.525225</td>\n",
              "      <td>4.624613</td>\n",
              "      <td>4.453699</td>\n",
              "      <td>4.297518</td>\n",
              "      <td>4.267138</td>\n",
              "      <td>4.531471</td>\n",
              "      <td>1.875739</td>\n",
              "      <td>NEU</td>\n",
              "    </tr>\n",
              "  </tbody>\n",
              "</table>\n",
              "<p>5 rows × 34 columns</p>\n",
              "</div>\n",
              "      <button class=\"colab-df-convert\" onclick=\"convertToInteractive('df-8f9abcea-4e18-4af4-bebe-2bd93cb50c57')\"\n",
              "              title=\"Convert this dataframe to an interactive table.\"\n",
              "              style=\"display:none;\">\n",
              "        \n",
              "  <svg xmlns=\"http://www.w3.org/2000/svg\" height=\"24px\"viewBox=\"0 0 24 24\"\n",
              "       width=\"24px\">\n",
              "    <path d=\"M0 0h24v24H0V0z\" fill=\"none\"/>\n",
              "    <path d=\"M18.56 5.44l.94 2.06.94-2.06 2.06-.94-2.06-.94-.94-2.06-.94 2.06-2.06.94zm-11 1L8.5 8.5l.94-2.06 2.06-.94-2.06-.94L8.5 2.5l-.94 2.06-2.06.94zm10 10l.94 2.06.94-2.06 2.06-.94-2.06-.94-.94-2.06-.94 2.06-2.06.94z\"/><path d=\"M17.41 7.96l-1.37-1.37c-.4-.4-.92-.59-1.43-.59-.52 0-1.04.2-1.43.59L10.3 9.45l-7.72 7.72c-.78.78-.78 2.05 0 2.83L4 21.41c.39.39.9.59 1.41.59.51 0 1.02-.2 1.41-.59l7.78-7.78 2.81-2.81c.8-.78.8-2.07 0-2.86zM5.41 20L4 18.59l7.72-7.72 1.47 1.35L5.41 20z\"/>\n",
              "  </svg>\n",
              "      </button>\n",
              "      \n",
              "  <style>\n",
              "    .colab-df-container {\n",
              "      display:flex;\n",
              "      flex-wrap:wrap;\n",
              "      gap: 12px;\n",
              "    }\n",
              "\n",
              "    .colab-df-convert {\n",
              "      background-color: #E8F0FE;\n",
              "      border: none;\n",
              "      border-radius: 50%;\n",
              "      cursor: pointer;\n",
              "      display: none;\n",
              "      fill: #1967D2;\n",
              "      height: 32px;\n",
              "      padding: 0 0 0 0;\n",
              "      width: 32px;\n",
              "    }\n",
              "\n",
              "    .colab-df-convert:hover {\n",
              "      background-color: #E2EBFA;\n",
              "      box-shadow: 0px 1px 2px rgba(60, 64, 67, 0.3), 0px 1px 3px 1px rgba(60, 64, 67, 0.15);\n",
              "      fill: #174EA6;\n",
              "    }\n",
              "\n",
              "    [theme=dark] .colab-df-convert {\n",
              "      background-color: #3B4455;\n",
              "      fill: #D2E3FC;\n",
              "    }\n",
              "\n",
              "    [theme=dark] .colab-df-convert:hover {\n",
              "      background-color: #434B5C;\n",
              "      box-shadow: 0px 1px 3px 1px rgba(0, 0, 0, 0.15);\n",
              "      filter: drop-shadow(0px 1px 2px rgba(0, 0, 0, 0.3));\n",
              "      fill: #FFFFFF;\n",
              "    }\n",
              "  </style>\n",
              "\n",
              "      <script>\n",
              "        const buttonEl =\n",
              "          document.querySelector('#df-8f9abcea-4e18-4af4-bebe-2bd93cb50c57 button.colab-df-convert');\n",
              "        buttonEl.style.display =\n",
              "          google.colab.kernel.accessAllowed ? 'block' : 'none';\n",
              "\n",
              "        async function convertToInteractive(key) {\n",
              "          const element = document.querySelector('#df-8f9abcea-4e18-4af4-bebe-2bd93cb50c57');\n",
              "          const dataTable =\n",
              "            await google.colab.kernel.invokeFunction('convertToInteractive',\n",
              "                                                     [key], {});\n",
              "          if (!dataTable) return;\n",
              "\n",
              "          const docLinkHtml = 'Like what you see? Visit the ' +\n",
              "            '<a target=\"_blank\" href=https://colab.research.google.com/notebooks/data_table.ipynb>data table notebook</a>'\n",
              "            + ' to learn more about interactive tables.';\n",
              "          element.innerHTML = '';\n",
              "          dataTable['output_type'] = 'display_data';\n",
              "          await google.colab.output.renderOutput(dataTable, element);\n",
              "          const docLink = document.createElement('div');\n",
              "          docLink.innerHTML = docLinkHtml;\n",
              "          element.appendChild(docLink);\n",
              "        }\n",
              "      </script>\n",
              "    </div>\n",
              "  </div>\n",
              "  "
            ]
          },
          "metadata": {},
          "execution_count": 104
        }
      ]
    },
    {
      "cell_type": "code",
      "source": [
        "# absurdalny przykład niezbednikiem w czasie testowania\n",
        "t1 = u'Wonna zajawka wyjaśniła wstępnemu wstępowi ogumienie'"
      ],
      "metadata": {
        "id": "n6MxcgVu95SL"
      },
      "execution_count": null,
      "outputs": []
    },
    {
      "cell_type": "code",
      "source": [
        "# Mały książę\n",
        "with open('/content/drive/MyDrive/badania korpusowe/licencjat/saint-exupery-maly-ksiaze.txt') as f:\n",
        "  file = f.read()"
      ],
      "metadata": {
        "id": "uNvQT9o61dNp"
      },
      "execution_count": null,
      "outputs": []
    },
    {
      "cell_type": "code",
      "source": [
        "# lemmatyzacja\n",
        "def to_lem(text):\n",
        "  doc = nlp(text)\n",
        "  lem = []\n",
        "  for token in doc:\n",
        "    a = token.lemma_\n",
        "    if a not in lem:\n",
        "      lem.append(a)\n",
        "  return lem"
      ],
      "metadata": {
        "id": "WtLJthC8_8Cj"
      },
      "execution_count": null,
      "outputs": []
    },
    {
      "cell_type": "code",
      "source": [
        "t1_lem = to_lem(t1)\n",
        "file1_lem = to_lem(file)"
      ],
      "metadata": {
        "id": "RDyFyAoJo8lh"
      },
      "execution_count": null,
      "outputs": []
    },
    {
      "cell_type": "code",
      "source": [
        "def max_value(dic):\n",
        "    result=[]\n",
        "    values = list(dic.values())\n",
        "    keys = list(dic.keys())\n",
        "    max_value = max(values)\n",
        "    for key, value in dic.items():\n",
        "      if value == max_value:\n",
        "        result.append(key)\n",
        "    return '-'.join(result)\n",
        "\n",
        "# match df x lem\n",
        "def find_emotions(lem_list):\n",
        "  valence = []\n",
        "  classification = []\n",
        "  classification_dic = {}\n",
        "\n",
        "  # creating lists with lemmas' properties\n",
        "  for index, row in df.iterrows():\n",
        "    if row['lemma'] in lem_list:\n",
        "      classification.append(row['classification'])\n",
        "      valence.append(row['VAL M'])\n",
        "\n",
        "  # counting average valence\n",
        "  valence_result = sum(valence)/len(valence)\n",
        "\n",
        "  # counting dominant emotion class\n",
        "  for element in classification:\n",
        "    if element not in classification_dic.keys():\n",
        "      classification_dic[element] = 1\n",
        "    else:\n",
        "      classification_dic[element] += 1\n",
        "\n",
        "  classification_result = max_value(classification_dic)\n",
        "\n",
        "  # func returns average valence and dominant emotion class \n",
        "  # calssifiaction_dic is returned only for testing\n",
        "  return valence_result, classification_result, classification_dic"
      ],
      "metadata": {
        "id": "j6o-EDwmCt8h"
      },
      "execution_count": null,
      "outputs": []
    },
    {
      "cell_type": "code",
      "source": [
        "found_emotions_t1 = find_emotions(t1_lem)\n",
        "print(f'Average valence is: {found_emotions_t1[0]}')\n",
        "print(f'Dominant emotion is: {found_emotions_t1[1]}')\n",
        "print(found_emotions_t1[2])"
      ],
      "metadata": {
        "colab": {
          "base_uri": "https://localhost:8080/"
        },
        "id": "P6ggXFKqoSQX",
        "outputId": "34ff9221-620e-4fe2-823b-c47a759c165c"
      },
      "execution_count": null,
      "outputs": [
        {
          "output_type": "stream",
          "name": "stdout",
          "text": [
            "Average valence is: 0.904879564879564\n",
            "Dominant emotion is: ANT\n",
            "{'ANT': 3, 'HAP': 1, 'TRU': 1}\n"
          ]
        }
      ]
    },
    {
      "cell_type": "code",
      "source": [
        "found_emotions_file = find_emotions(file1_lem)\n",
        "print(f'Average valence is: {found_emotions_file[0]}')\n",
        "print(f'Dominant emotion is: {found_emotions_file[1]}')\n",
        "print(found_emotions_file[2])"
      ],
      "metadata": {
        "id": "8bHFC3X5s7Nu",
        "colab": {
          "base_uri": "https://localhost:8080/"
        },
        "outputId": "fdd171ab-3ba9-4988-bace-64efed56df22"
      },
      "execution_count": null,
      "outputs": [
        {
          "output_type": "stream",
          "name": "stdout",
          "text": [
            "Average valence is: 0.38784656705993364\n",
            "Dominant emotion is: HAP\n",
            "{'TRU': 44, 'ANT': 53, 'HAP': 54, 'FEA': 36, 'SAD': 39, 'ANG': 24, 'NEU': 33, 'SUR': 15, 'DIS': 10}\n"
          ]
        }
      ]
    },
    {
      "cell_type": "code",
      "source": [],
      "metadata": {
        "id": "D1r_2y2C1_yY"
      },
      "execution_count": null,
      "outputs": []
    }
  ]
}