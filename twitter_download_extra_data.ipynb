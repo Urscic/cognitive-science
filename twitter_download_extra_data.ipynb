{
  "nbformat": 4,
  "nbformat_minor": 0,
  "metadata": {
    "colab": {
      "provenance": [],
      "mount_file_id": "1iWhOvgB9b8B4Gom-w5w5V9R8Crem1TDw",
      "authorship_tag": "ABX9TyN1rvhxKumRYcXZsemuMIk/"
    },
    "kernelspec": {
      "name": "python3",
      "display_name": "Python 3"
    },
    "language_info": {
      "name": "python"
    }
  },
  "cells": [
    {
      "cell_type": "code",
      "execution_count": null,
      "metadata": {
        "colab": {
          "base_uri": "https://localhost:8080/"
        },
        "id": "9_oStPjEz1lx",
        "outputId": "e032c6a1-33a4-425e-d536-7be3dadcaebd"
      },
      "outputs": [
        {
          "output_type": "stream",
          "name": "stdout",
          "text": [
            "Looking in indexes: https://pypi.org/simple, https://us-python.pkg.dev/colab-wheels/public/simple/\n",
            "Requirement already satisfied: tweepy in /usr/local/lib/python3.9/dist-packages (4.13.0)\n",
            "Requirement already satisfied: oauthlib<4,>=3.2.0 in /usr/local/lib/python3.9/dist-packages (from tweepy) (3.2.2)\n",
            "Requirement already satisfied: requests-oauthlib<2,>=1.2.0 in /usr/local/lib/python3.9/dist-packages (from tweepy) (1.3.1)\n",
            "Requirement already satisfied: requests<3,>=2.27.0 in /usr/local/lib/python3.9/dist-packages (from tweepy) (2.27.1)\n",
            "Requirement already satisfied: charset-normalizer~=2.0.0 in /usr/local/lib/python3.9/dist-packages (from requests<3,>=2.27.0->tweepy) (2.0.12)\n",
            "Requirement already satisfied: urllib3<1.27,>=1.21.1 in /usr/local/lib/python3.9/dist-packages (from requests<3,>=2.27.0->tweepy) (1.26.15)\n",
            "Requirement already satisfied: certifi>=2017.4.17 in /usr/local/lib/python3.9/dist-packages (from requests<3,>=2.27.0->tweepy) (2022.12.7)\n",
            "Requirement already satisfied: idna<4,>=2.5 in /usr/local/lib/python3.9/dist-packages (from requests<3,>=2.27.0->tweepy) (3.4)\n"
          ]
        }
      ],
      "source": [
        "pip install tweepy"
      ]
    },
    {
      "cell_type": "code",
      "source": [
        "import pandas as pd\n",
        "import tweepy\n",
        "import numpy as np"
      ],
      "metadata": {
        "id": "Qz9qv9E00jdq"
      },
      "execution_count": null,
      "outputs": []
    },
    {
      "cell_type": "code",
      "source": [
        "api_key = 'xxx'\n",
        "api_key_secret = 'xxx'\n",
        "access_token = 'xxx'\n",
        "access_token_secret = 'xxx'"
      ],
      "metadata": {
        "id": "RzrLQ3yl05sg"
      },
      "execution_count": null,
      "outputs": []
    },
    {
      "cell_type": "code",
      "source": [
        "#authentication\n",
        "auth = tweepy.OAuthHandler(api_key, api_key_secret)\n",
        "auth.set_access_token(access_token, access_token_secret)\n",
        "api = tweepy.API(auth)"
      ],
      "metadata": {
        "id": "IHFagp-31Si_"
      },
      "execution_count": null,
      "outputs": []
    },
    {
      "cell_type": "code",
      "source": [
        "users_info=pd.read_csv('users_info_covid.csv')\n",
        "users_info=users_info.drop('Unnamed: 0', axis=1)"
      ],
      "metadata": {
        "id": "9dE6w9Ok2Dm5"
      },
      "execution_count": null,
      "outputs": []
    },
    {
      "cell_type": "code",
      "source": [
        "users_info.head()"
      ],
      "metadata": {
        "colab": {
          "base_uri": "https://localhost:8080/",
          "height": 206
        },
        "id": "cdPlSR4O8KXi",
        "outputId": "b19e772e-a76d-473a-a9ca-5ae81e65dec3"
      },
      "execution_count": null,
      "outputs": [
        {
          "output_type": "execute_result",
          "data": {
            "text/plain": [
              "        user_id      screen_name\n",
              "0  1.425458e+18        marsons80\n",
              "1  1.425458e+18        marsons80\n",
              "2  7.758061e+17  BourgaultGilles\n",
              "3  1.330424e+18      ThePurrrple\n",
              "4  1.345074e+18    GENERALBUNGTM"
            ],
            "text/html": [
              "\n",
              "  <div id=\"df-1e1eac04-8187-4190-8d85-6a8d337f1ab1\">\n",
              "    <div class=\"colab-df-container\">\n",
              "      <div>\n",
              "<style scoped>\n",
              "    .dataframe tbody tr th:only-of-type {\n",
              "        vertical-align: middle;\n",
              "    }\n",
              "\n",
              "    .dataframe tbody tr th {\n",
              "        vertical-align: top;\n",
              "    }\n",
              "\n",
              "    .dataframe thead th {\n",
              "        text-align: right;\n",
              "    }\n",
              "</style>\n",
              "<table border=\"1\" class=\"dataframe\">\n",
              "  <thead>\n",
              "    <tr style=\"text-align: right;\">\n",
              "      <th></th>\n",
              "      <th>user_id</th>\n",
              "      <th>screen_name</th>\n",
              "    </tr>\n",
              "  </thead>\n",
              "  <tbody>\n",
              "    <tr>\n",
              "      <th>0</th>\n",
              "      <td>1.425458e+18</td>\n",
              "      <td>marsons80</td>\n",
              "    </tr>\n",
              "    <tr>\n",
              "      <th>1</th>\n",
              "      <td>1.425458e+18</td>\n",
              "      <td>marsons80</td>\n",
              "    </tr>\n",
              "    <tr>\n",
              "      <th>2</th>\n",
              "      <td>7.758061e+17</td>\n",
              "      <td>BourgaultGilles</td>\n",
              "    </tr>\n",
              "    <tr>\n",
              "      <th>3</th>\n",
              "      <td>1.330424e+18</td>\n",
              "      <td>ThePurrrple</td>\n",
              "    </tr>\n",
              "    <tr>\n",
              "      <th>4</th>\n",
              "      <td>1.345074e+18</td>\n",
              "      <td>GENERALBUNGTM</td>\n",
              "    </tr>\n",
              "  </tbody>\n",
              "</table>\n",
              "</div>\n",
              "      <button class=\"colab-df-convert\" onclick=\"convertToInteractive('df-1e1eac04-8187-4190-8d85-6a8d337f1ab1')\"\n",
              "              title=\"Convert this dataframe to an interactive table.\"\n",
              "              style=\"display:none;\">\n",
              "        \n",
              "  <svg xmlns=\"http://www.w3.org/2000/svg\" height=\"24px\"viewBox=\"0 0 24 24\"\n",
              "       width=\"24px\">\n",
              "    <path d=\"M0 0h24v24H0V0z\" fill=\"none\"/>\n",
              "    <path d=\"M18.56 5.44l.94 2.06.94-2.06 2.06-.94-2.06-.94-.94-2.06-.94 2.06-2.06.94zm-11 1L8.5 8.5l.94-2.06 2.06-.94-2.06-.94L8.5 2.5l-.94 2.06-2.06.94zm10 10l.94 2.06.94-2.06 2.06-.94-2.06-.94-.94-2.06-.94 2.06-2.06.94z\"/><path d=\"M17.41 7.96l-1.37-1.37c-.4-.4-.92-.59-1.43-.59-.52 0-1.04.2-1.43.59L10.3 9.45l-7.72 7.72c-.78.78-.78 2.05 0 2.83L4 21.41c.39.39.9.59 1.41.59.51 0 1.02-.2 1.41-.59l7.78-7.78 2.81-2.81c.8-.78.8-2.07 0-2.86zM5.41 20L4 18.59l7.72-7.72 1.47 1.35L5.41 20z\"/>\n",
              "  </svg>\n",
              "      </button>\n",
              "      \n",
              "  <style>\n",
              "    .colab-df-container {\n",
              "      display:flex;\n",
              "      flex-wrap:wrap;\n",
              "      gap: 12px;\n",
              "    }\n",
              "\n",
              "    .colab-df-convert {\n",
              "      background-color: #E8F0FE;\n",
              "      border: none;\n",
              "      border-radius: 50%;\n",
              "      cursor: pointer;\n",
              "      display: none;\n",
              "      fill: #1967D2;\n",
              "      height: 32px;\n",
              "      padding: 0 0 0 0;\n",
              "      width: 32px;\n",
              "    }\n",
              "\n",
              "    .colab-df-convert:hover {\n",
              "      background-color: #E2EBFA;\n",
              "      box-shadow: 0px 1px 2px rgba(60, 64, 67, 0.3), 0px 1px 3px 1px rgba(60, 64, 67, 0.15);\n",
              "      fill: #174EA6;\n",
              "    }\n",
              "\n",
              "    [theme=dark] .colab-df-convert {\n",
              "      background-color: #3B4455;\n",
              "      fill: #D2E3FC;\n",
              "    }\n",
              "\n",
              "    [theme=dark] .colab-df-convert:hover {\n",
              "      background-color: #434B5C;\n",
              "      box-shadow: 0px 1px 3px 1px rgba(0, 0, 0, 0.15);\n",
              "      filter: drop-shadow(0px 1px 2px rgba(0, 0, 0, 0.3));\n",
              "      fill: #FFFFFF;\n",
              "    }\n",
              "  </style>\n",
              "\n",
              "      <script>\n",
              "        const buttonEl =\n",
              "          document.querySelector('#df-1e1eac04-8187-4190-8d85-6a8d337f1ab1 button.colab-df-convert');\n",
              "        buttonEl.style.display =\n",
              "          google.colab.kernel.accessAllowed ? 'block' : 'none';\n",
              "\n",
              "        async function convertToInteractive(key) {\n",
              "          const element = document.querySelector('#df-1e1eac04-8187-4190-8d85-6a8d337f1ab1');\n",
              "          const dataTable =\n",
              "            await google.colab.kernel.invokeFunction('convertToInteractive',\n",
              "                                                     [key], {});\n",
              "          if (!dataTable) return;\n",
              "\n",
              "          const docLinkHtml = 'Like what you see? Visit the ' +\n",
              "            '<a target=\"_blank\" href=https://colab.research.google.com/notebooks/data_table.ipynb>data table notebook</a>'\n",
              "            + ' to learn more about interactive tables.';\n",
              "          element.innerHTML = '';\n",
              "          dataTable['output_type'] = 'display_data';\n",
              "          await google.colab.output.renderOutput(dataTable, element);\n",
              "          const docLink = document.createElement('div');\n",
              "          docLink.innerHTML = docLinkHtml;\n",
              "          element.appendChild(docLink);\n",
              "        }\n",
              "      </script>\n",
              "    </div>\n",
              "  </div>\n",
              "  "
            ]
          },
          "metadata": {},
          "execution_count": 5
        }
      ]
    },
    {
      "cell_type": "code",
      "source": [
        "location = []\n",
        "description = []\n",
        "verified = []\n",
        "followers_count = []\n",
        "friends_count = []\n",
        "listed_count = []\n",
        "created_at = []\n",
        "statuses_count = []\n",
        "favourites_count = []\n",
        "\n",
        "for index, row in users_info.iterrows():\n",
        "  id = row['user_id']\n",
        "  name = row['screen_name']\n",
        "  try:\n",
        "    user = api.get_user(screen_name=name)\n",
        "    location.append(user.location)\n",
        "    description.append(user.description)\n",
        "    verified.append(user.verified)\n",
        "    followers_count.append(user.followers_count)\n",
        "    friends_count.append(user.friends_count)\n",
        "    listed_count.append(user.listed_count)\n",
        "    created_at.append(user.created_at)\n",
        "    statuses_count.append(user.statuses_count)\n",
        "    favourites_count.append(user.favourites_count)\n",
        "  except:\n",
        "    location.append(np.nan)\n",
        "    description.append(np.nan)\n",
        "    verified.append(np.nan)\n",
        "    followers_count.append(np.nan)\n",
        "    friends_count.append(np.nan)\n",
        "    listed_count.append(np.nan)\n",
        "    created_at.append(np.nan)   \n",
        "    statuses_count.append(np.nan)\n",
        "    favourites_count.append(np.nan)\n"
      ],
      "metadata": {
        "id": "YB_BET2X21fz"
      },
      "execution_count": null,
      "outputs": []
    },
    {
      "cell_type": "code",
      "source": [
        "users_info.shape"
      ],
      "metadata": {
        "colab": {
          "base_uri": "https://localhost:8080/"
        },
        "id": "KPP1Fv8fIMQK",
        "outputId": "0bd871a4-2a37-421b-c5aa-755b4cabbbcd"
      },
      "execution_count": null,
      "outputs": [
        {
          "output_type": "execute_result",
          "data": {
            "text/plain": [
              "(1591, 2)"
            ]
          },
          "metadata": {},
          "execution_count": 7
        }
      ]
    },
    {
      "cell_type": "code",
      "source": [
        "users_info['location'] = location #the user-defined location for this account’s profile\n",
        "users_info['description'] = description\n",
        "users_info['verified'] = verified #the blue checkmark\n",
        "users_info['followers_count'] = followers_count #the number of followers\n",
        "users_info['friends_count']=friends_count #the number of followed accounts\n",
        "users_info['listed_count']=listed_count\n",
        "users_info['created_at']=created_at\n",
        "users_info['statuses_count']=statuses_count #The number of Tweets (including retweets) issued by the user\n",
        "users_info['favourites_count'] = favourites_count #favourites_count"
      ],
      "metadata": {
        "id": "SzrgXbY5DemF"
      },
      "execution_count": null,
      "outputs": []
    },
    {
      "cell_type": "code",
      "source": [
        "users_info.head()"
      ],
      "metadata": {
        "colab": {
          "base_uri": "https://localhost:8080/",
          "height": 495
        },
        "id": "WOI_elcECa4M",
        "outputId": "dc3a4afe-1705-468f-d520-72d2d3d14cc6"
      },
      "execution_count": null,
      "outputs": [
        {
          "output_type": "execute_result",
          "data": {
            "text/plain": [
              "        user_id      screen_name          location  \\\n",
              "0  1.425458e+18        marsons80            Tumba    \n",
              "1  1.425458e+18        marsons80            Tumba    \n",
              "2  7.758061e+17  BourgaultGilles                     \n",
              "3  1.330424e+18      ThePurrrple       Silent Hill   \n",
              "4  1.345074e+18    GENERALBUNGTM  Calgary, Alberta   \n",
              "\n",
              "                                         description verified  \\\n",
              "0                                                       False   \n",
              "1                                                       False   \n",
              "2  A adult is someone who take responsibility for...    False   \n",
              "3  Ancient, Mixed Race, ACE, Intersex, Retired Se...    False   \n",
              "4  Progressive Conservative. Instagram chef. Oile...    False   \n",
              "\n",
              "   followers_count  friends_count  listed_count                created_at  \\\n",
              "0            284.0           97.0           4.0 2021-08-11 14:03:05+00:00   \n",
              "1            284.0           97.0           4.0 2021-08-11 14:03:05+00:00   \n",
              "2            203.0           35.0          12.0 2016-09-13 21:19:32+00:00   \n",
              "3            463.0          360.0           2.0 2020-11-22 08:12:11+00:00   \n",
              "4             65.0          104.0           1.0 2021-01-01 18:27:48+00:00   \n",
              "\n",
              "   statuses_count  favourites_count  \n",
              "0         13581.0           38031.0  \n",
              "1         13581.0           38031.0  \n",
              "2         57575.0           28654.0  \n",
              "3         21266.0            9653.0  \n",
              "4          9061.0           11596.0  "
            ],
            "text/html": [
              "\n",
              "  <div id=\"df-0d3e8ccb-1b38-4cf3-928e-b9a035e793dd\">\n",
              "    <div class=\"colab-df-container\">\n",
              "      <div>\n",
              "<style scoped>\n",
              "    .dataframe tbody tr th:only-of-type {\n",
              "        vertical-align: middle;\n",
              "    }\n",
              "\n",
              "    .dataframe tbody tr th {\n",
              "        vertical-align: top;\n",
              "    }\n",
              "\n",
              "    .dataframe thead th {\n",
              "        text-align: right;\n",
              "    }\n",
              "</style>\n",
              "<table border=\"1\" class=\"dataframe\">\n",
              "  <thead>\n",
              "    <tr style=\"text-align: right;\">\n",
              "      <th></th>\n",
              "      <th>user_id</th>\n",
              "      <th>screen_name</th>\n",
              "      <th>location</th>\n",
              "      <th>description</th>\n",
              "      <th>verified</th>\n",
              "      <th>followers_count</th>\n",
              "      <th>friends_count</th>\n",
              "      <th>listed_count</th>\n",
              "      <th>created_at</th>\n",
              "      <th>statuses_count</th>\n",
              "      <th>favourites_count</th>\n",
              "    </tr>\n",
              "  </thead>\n",
              "  <tbody>\n",
              "    <tr>\n",
              "      <th>0</th>\n",
              "      <td>1.425458e+18</td>\n",
              "      <td>marsons80</td>\n",
              "      <td>Tumba</td>\n",
              "      <td></td>\n",
              "      <td>False</td>\n",
              "      <td>284.0</td>\n",
              "      <td>97.0</td>\n",
              "      <td>4.0</td>\n",
              "      <td>2021-08-11 14:03:05+00:00</td>\n",
              "      <td>13581.0</td>\n",
              "      <td>38031.0</td>\n",
              "    </tr>\n",
              "    <tr>\n",
              "      <th>1</th>\n",
              "      <td>1.425458e+18</td>\n",
              "      <td>marsons80</td>\n",
              "      <td>Tumba</td>\n",
              "      <td></td>\n",
              "      <td>False</td>\n",
              "      <td>284.0</td>\n",
              "      <td>97.0</td>\n",
              "      <td>4.0</td>\n",
              "      <td>2021-08-11 14:03:05+00:00</td>\n",
              "      <td>13581.0</td>\n",
              "      <td>38031.0</td>\n",
              "    </tr>\n",
              "    <tr>\n",
              "      <th>2</th>\n",
              "      <td>7.758061e+17</td>\n",
              "      <td>BourgaultGilles</td>\n",
              "      <td></td>\n",
              "      <td>A adult is someone who take responsibility for...</td>\n",
              "      <td>False</td>\n",
              "      <td>203.0</td>\n",
              "      <td>35.0</td>\n",
              "      <td>12.0</td>\n",
              "      <td>2016-09-13 21:19:32+00:00</td>\n",
              "      <td>57575.0</td>\n",
              "      <td>28654.0</td>\n",
              "    </tr>\n",
              "    <tr>\n",
              "      <th>3</th>\n",
              "      <td>1.330424e+18</td>\n",
              "      <td>ThePurrrple</td>\n",
              "      <td>Silent Hill</td>\n",
              "      <td>Ancient, Mixed Race, ACE, Intersex, Retired Se...</td>\n",
              "      <td>False</td>\n",
              "      <td>463.0</td>\n",
              "      <td>360.0</td>\n",
              "      <td>2.0</td>\n",
              "      <td>2020-11-22 08:12:11+00:00</td>\n",
              "      <td>21266.0</td>\n",
              "      <td>9653.0</td>\n",
              "    </tr>\n",
              "    <tr>\n",
              "      <th>4</th>\n",
              "      <td>1.345074e+18</td>\n",
              "      <td>GENERALBUNGTM</td>\n",
              "      <td>Calgary, Alberta</td>\n",
              "      <td>Progressive Conservative. Instagram chef. Oile...</td>\n",
              "      <td>False</td>\n",
              "      <td>65.0</td>\n",
              "      <td>104.0</td>\n",
              "      <td>1.0</td>\n",
              "      <td>2021-01-01 18:27:48+00:00</td>\n",
              "      <td>9061.0</td>\n",
              "      <td>11596.0</td>\n",
              "    </tr>\n",
              "  </tbody>\n",
              "</table>\n",
              "</div>\n",
              "      <button class=\"colab-df-convert\" onclick=\"convertToInteractive('df-0d3e8ccb-1b38-4cf3-928e-b9a035e793dd')\"\n",
              "              title=\"Convert this dataframe to an interactive table.\"\n",
              "              style=\"display:none;\">\n",
              "        \n",
              "  <svg xmlns=\"http://www.w3.org/2000/svg\" height=\"24px\"viewBox=\"0 0 24 24\"\n",
              "       width=\"24px\">\n",
              "    <path d=\"M0 0h24v24H0V0z\" fill=\"none\"/>\n",
              "    <path d=\"M18.56 5.44l.94 2.06.94-2.06 2.06-.94-2.06-.94-.94-2.06-.94 2.06-2.06.94zm-11 1L8.5 8.5l.94-2.06 2.06-.94-2.06-.94L8.5 2.5l-.94 2.06-2.06.94zm10 10l.94 2.06.94-2.06 2.06-.94-2.06-.94-.94-2.06-.94 2.06-2.06.94z\"/><path d=\"M17.41 7.96l-1.37-1.37c-.4-.4-.92-.59-1.43-.59-.52 0-1.04.2-1.43.59L10.3 9.45l-7.72 7.72c-.78.78-.78 2.05 0 2.83L4 21.41c.39.39.9.59 1.41.59.51 0 1.02-.2 1.41-.59l7.78-7.78 2.81-2.81c.8-.78.8-2.07 0-2.86zM5.41 20L4 18.59l7.72-7.72 1.47 1.35L5.41 20z\"/>\n",
              "  </svg>\n",
              "      </button>\n",
              "      \n",
              "  <style>\n",
              "    .colab-df-container {\n",
              "      display:flex;\n",
              "      flex-wrap:wrap;\n",
              "      gap: 12px;\n",
              "    }\n",
              "\n",
              "    .colab-df-convert {\n",
              "      background-color: #E8F0FE;\n",
              "      border: none;\n",
              "      border-radius: 50%;\n",
              "      cursor: pointer;\n",
              "      display: none;\n",
              "      fill: #1967D2;\n",
              "      height: 32px;\n",
              "      padding: 0 0 0 0;\n",
              "      width: 32px;\n",
              "    }\n",
              "\n",
              "    .colab-df-convert:hover {\n",
              "      background-color: #E2EBFA;\n",
              "      box-shadow: 0px 1px 2px rgba(60, 64, 67, 0.3), 0px 1px 3px 1px rgba(60, 64, 67, 0.15);\n",
              "      fill: #174EA6;\n",
              "    }\n",
              "\n",
              "    [theme=dark] .colab-df-convert {\n",
              "      background-color: #3B4455;\n",
              "      fill: #D2E3FC;\n",
              "    }\n",
              "\n",
              "    [theme=dark] .colab-df-convert:hover {\n",
              "      background-color: #434B5C;\n",
              "      box-shadow: 0px 1px 3px 1px rgba(0, 0, 0, 0.15);\n",
              "      filter: drop-shadow(0px 1px 2px rgba(0, 0, 0, 0.3));\n",
              "      fill: #FFFFFF;\n",
              "    }\n",
              "  </style>\n",
              "\n",
              "      <script>\n",
              "        const buttonEl =\n",
              "          document.querySelector('#df-0d3e8ccb-1b38-4cf3-928e-b9a035e793dd button.colab-df-convert');\n",
              "        buttonEl.style.display =\n",
              "          google.colab.kernel.accessAllowed ? 'block' : 'none';\n",
              "\n",
              "        async function convertToInteractive(key) {\n",
              "          const element = document.querySelector('#df-0d3e8ccb-1b38-4cf3-928e-b9a035e793dd');\n",
              "          const dataTable =\n",
              "            await google.colab.kernel.invokeFunction('convertToInteractive',\n",
              "                                                     [key], {});\n",
              "          if (!dataTable) return;\n",
              "\n",
              "          const docLinkHtml = 'Like what you see? Visit the ' +\n",
              "            '<a target=\"_blank\" href=https://colab.research.google.com/notebooks/data_table.ipynb>data table notebook</a>'\n",
              "            + ' to learn more about interactive tables.';\n",
              "          element.innerHTML = '';\n",
              "          dataTable['output_type'] = 'display_data';\n",
              "          await google.colab.output.renderOutput(dataTable, element);\n",
              "          const docLink = document.createElement('div');\n",
              "          docLink.innerHTML = docLinkHtml;\n",
              "          element.appendChild(docLink);\n",
              "        }\n",
              "      </script>\n",
              "    </div>\n",
              "  </div>\n",
              "  "
            ]
          },
          "metadata": {},
          "execution_count": 9
        }
      ]
    },
    {
      "cell_type": "code",
      "source": [
        "users_info.to_csv('users_info_covid_extra.csv')"
      ],
      "metadata": {
        "id": "pbqtGwCfEXu8"
      },
      "execution_count": null,
      "outputs": []
    },
    {
      "cell_type": "code",
      "source": [],
      "metadata": {
        "id": "pJpYdhsmKBT2"
      },
      "execution_count": null,
      "outputs": []
    }
  ]
}